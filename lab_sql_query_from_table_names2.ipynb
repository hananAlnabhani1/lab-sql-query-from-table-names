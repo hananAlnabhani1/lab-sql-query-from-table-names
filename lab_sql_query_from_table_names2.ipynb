{
  "cells": [
    {
      "cell_type": "markdown",
      "id": "00a57394-53dd-47cd-a5e7-6e7122bbb0f6",
      "metadata": {
        "id": "00a57394-53dd-47cd-a5e7-6e7122bbb0f6"
      },
      "source": [
        "# SQL query from table names"
      ]
    },
    {
      "cell_type": "markdown",
      "id": "86bc2813-763c-49f2-9f5d-e1f87a20556f",
      "metadata": {
        "id": "86bc2813-763c-49f2-9f5d-e1f87a20556f"
      },
      "source": [
        "In This notebook we are going to test if using just the name of the table, and a shord definition of its contect we can use a model like GTP3.5-Turbo to select which tables are necessary to create a SQL Order to answer the user petition."
      ]
    },
    {
      "cell_type": "code",
      "execution_count": 2,
      "id": "hqZPi6j0wsE_",
      "metadata": {
        "colab": {
          "base_uri": "https://localhost:8080/"
        },
        "id": "hqZPi6j0wsE_",
        "outputId": "c973326f-97a9-471e-aca4-b0d12d239333"
      },
      "outputs": [
        {
          "name": "stdout",
          "output_type": "stream",
          "text": [
            "Collecting python-dotenv\n",
            "  Downloading python_dotenv-1.0.1-py3-none-any.whl.metadata (23 kB)\n",
            "Downloading python_dotenv-1.0.1-py3-none-any.whl (19 kB)\n",
            "Installing collected packages: python-dotenv\n",
            "Successfully installed python-dotenv-1.0.1\n"
          ]
        }
      ],
      "source": [
        "pip install python-dotenv\n"
      ]
    },
    {
      "cell_type": "code",
      "execution_count": null,
      "id": "7fbbdf5b-4d7f-4496-8f40-9d15ea46d023",
      "metadata": {
        "id": "7fbbdf5b-4d7f-4496-8f40-9d15ea46d023"
      },
      "outputs": [],
      "source": [
        "from openai import OpenAI\n",
        "import os\n",
        "from dotenv import load_dotenv, find_dotenv\n",
        "_ = load_dotenv(find_dotenv())\n",
        "\n"
      ]
    },
    {
      "cell_type": "code",
      "execution_count": 2,
      "id": "e480bbfb-9a80-4ea6-b792-067e63ae3148",
      "metadata": {
        "id": "e480bbfb-9a80-4ea6-b792-067e63ae3148"
      },
      "outputs": [],
      "source": [
        "#Functio to call the model.\n",
        "def return_OAI(user_message):\n",
        "    client = OpenAI(\n",
        "    # This is the default and can be omitted\n",
        "    api_key=OPENAI_API_KEY,\n",
        ")\n",
        "    context = []\n",
        "    context.append({'role':'system', \"content\": user_message})\n",
        "\n",
        "    response = client.chat.completions.create(\n",
        "            model=\"gpt-3.5-turbo\",\n",
        "            messages=context,\n",
        "            temperature=0,\n",
        "        )\n",
        "\n",
        "    return (response.choices[0].message.content)"
      ]
    },
    {
      "cell_type": "code",
      "execution_count": 3,
      "id": "6d5d2bdc-d822-4ed8-815e-b3f223730f15",
      "metadata": {
        "colab": {
          "base_uri": "https://localhost:8080/"
        },
        "id": "6d5d2bdc-d822-4ed8-815e-b3f223730f15",
        "outputId": "cf558e32-c2a2-49db-e9f1-1150ee451fe5"
      },
      "outputs": [
        {
          "name": "stdout",
          "output_type": "stream",
          "text": [
            "       table                                         definition\n",
            "0  Customers  Contains customer information like name, email...\n",
            "1     Orders  Contains order details including order ID, cus...\n",
            "2   Products  Contains product details such as product name,...\n"
          ]
        }
      ],
      "source": [
        "import pandas as pd\n",
        "\n",
        "data = {\n",
        "    'table': ['Customers', 'Orders', 'Products'],\n",
        "    'definition': [\n",
        "        'Contains customer information like name, email, and phone number.',\n",
        "        'Contains order details including order ID, customer ID, and total price.',\n",
        "        'Contains product details such as product name, category, and price.'\n",
        "    ]\n",
        "}\n",
        "\n",
        "df = pd.DataFrame(data)\n",
        "print(df)\n"
      ]
    },
    {
      "cell_type": "code",
      "execution_count": 4,
      "id": "009e681c-d95d-4c9c-b044-5bfd76e3ad95",
      "metadata": {
        "id": "009e681c-d95d-4c9c-b044-5bfd76e3ad95"
      },
      "outputs": [],
      "source": [
        "text_tables = '\\n'.join([f\"{row['table']}: {row['definition']}\" for index, row in df.iterrows()])"
      ]
    },
    {
      "cell_type": "code",
      "execution_count": 5,
      "id": "fe03ac25-8d02-4cd1-99a1-be4220c6fd2d",
      "metadata": {
        "colab": {
          "base_uri": "https://localhost:8080/"
        },
        "id": "fe03ac25-8d02-4cd1-99a1-be4220c6fd2d",
        "outputId": "24242e57-7242-43ba-c4a8-437243f58a6c"
      },
      "outputs": [
        {
          "name": "stdout",
          "output_type": "stream",
          "text": [
            "Customers: Contains customer information like name, email, and phone number.\n",
            "Orders: Contains order details including order ID, customer ID, and total price.\n",
            "Products: Contains product details such as product name, category, and price.\n"
          ]
        }
      ],
      "source": [
        "print(text_tables)"
      ]
    },
    {
      "cell_type": "code",
      "execution_count": 6,
      "id": "c7e275ae-f20d-4134-b9b6-d8677dfb544c",
      "metadata": {
        "id": "c7e275ae-f20d-4134-b9b6-d8677dfb544c"
      },
      "outputs": [],
      "source": [
        "prompt_question_tables = \"\"\"\n",
        "Given the following tables and their content definitions,\n",
        "###Tables\n",
        "{tables}\n",
        "\n",
        "Tell me which tables would be necessary to query with SQL to address the user's question below.\n",
        "Return the table names in a json format.\n",
        "###User Questyion:\n",
        "{question}\n",
        "\"\"\"\n"
      ]
    },
    {
      "cell_type": "code",
      "execution_count": 7,
      "id": "b1cb5957-2df2-4e5e-9e6a-ace955c9817e",
      "metadata": {
        "colab": {
          "base_uri": "https://localhost:8080/"
        },
        "id": "b1cb5957-2df2-4e5e-9e6a-ace955c9817e",
        "outputId": "db6c41f4-2911-44f6-8935-bcb958b11cdb"
      },
      "outputs": [
        {
          "name": "stdout",
          "output_type": "stream",
          "text": [
            "\n",
            "Given the following tables and their content definitions,\n",
            "###Tables\n",
            "Customers: Contains customer information like name, email, and phone number.\n",
            "Orders: Contains order details including order ID, customer ID, and total price.\n",
            "Products: Contains product details such as product name, category, and price.\n",
            "\n",
            "Tell me which tables would be necessary to query with SQL to address the user's question below.\n",
            "Return the table names in a json format.\n",
            "###User Questyion:\n",
            "Which customers have placed orders in the last 30 days?\n",
            "\n"
          ]
        }
      ],
      "source": [
        "# #Creating the prompt, with the user questions and the tables definitions.\n",
        "# pqt1 = prompt_question_tables.format(tables=text_tables, question=#ENTER YOUR QUERY HERE)\n",
        "\n",
        "#                                      # Creating the prompt, with the user questions and the tables definitions.\n",
        "user_query = \"Which customers have placed orders in the last 30 days?\"\n",
        "\n",
        "pqt1 = prompt_question_tables.format(tables=text_tables, question=user_query)\n",
        "\n",
        "print(pqt1)\n"
      ]
    },
    {
      "cell_type": "code",
      "execution_count": 8,
      "id": "10d30f2b-6c23-4fd6-8038-840fba784cce",
      "metadata": {
        "colab": {
          "base_uri": "https://localhost:8080/",
          "height": 373
        },
        "id": "10d30f2b-6c23-4fd6-8038-840fba784cce",
        "outputId": "1f7b765d-4fb2-4ed6-821d-1eebe25a5e5d",
        "scrolled": true
      },
      "outputs": [
        {
          "name": "stdout",
          "output_type": "stream",
          "text": [
            "{\n",
            "  \"Tables\": [\"Customers\", \"Orders\"]\n",
            "}\n"
          ]
        }
      ],
      "source": [
        "\n",
        "print(return_OAI(pqt1))"
      ]
    },
    {
      "cell_type": "code",
      "execution_count": 10,
      "id": "57e07083-be8f-4cd0-95bd-c4b909422c6b",
      "metadata": {
        "colab": {
          "base_uri": "https://localhost:8080/"
        },
        "id": "57e07083-be8f-4cd0-95bd-c4b909422c6b",
        "outputId": "5fcd05db-741e-45de-99b8-8714adc78da1"
      },
      "outputs": [
        {
          "name": "stdout",
          "output_type": "stream",
          "text": [
            "\n",
            "Given the following tables and their content definitions,\n",
            "###Tables\n",
            "Customers: Contains customer information like name, email, and phone number.\n",
            "Orders: Contains order details including order ID, customer ID, and total price.\n",
            "Products: Contains product details such as product name, category, and price.\n",
            "\n",
            "Tell me which tables would be necessary to query with SQL to address the user's question below.\n",
            "Return the table names in a json format.\n",
            "###User Questyion:\n",
            "Which products have the highest sales in the last 6 months?\n",
            "\n"
          ]
        }
      ],
      "source": [
        "# Define the user query\n",
        "user_query = \"Which products have the highest sales in the last 6 months?\"\n",
        "\n",
        "# Format the prompt with the actual query\n",
        "pqt3 = prompt_question_tables.format(tables=text_tables, question=user_query)\n",
        "\n",
        "print(pqt3)  # To verify the formatted prompt\n"
      ]
    },
    {
      "cell_type": "code",
      "execution_count": 11,
      "id": "a0eeb79e-caf1-4f48-9897-168d95d2ae37",
      "metadata": {
        "colab": {
          "base_uri": "https://localhost:8080/",
          "height": 321
        },
        "id": "a0eeb79e-caf1-4f48-9897-168d95d2ae37",
        "outputId": "5024e631-ad3a-4b99-ad17-ffd0f77ac80b"
      },
      "outputs": [
        {
          "name": "stdout",
          "output_type": "stream",
          "text": [
            "{\n",
            "  \"Tables\": [\"Orders\", \"Products\"]\n",
            "}\n"
          ]
        }
      ],
      "source": [
        "print(return_OAI(pqt3))"
      ]
    },
    {
      "cell_type": "markdown",
      "id": "321bb9a2-4937-4e9a-a31b-7049cb8f5aa3",
      "metadata": {
        "id": "321bb9a2-4937-4e9a-a31b-7049cb8f5aa3"
      },
      "source": [
        "# Exercise\n",
        " - Complete the prompts similar to what we did in class.\n",
        "     - Try a few versions if you have time\n",
        "     - Be creative\n",
        " - Write a one page report summarizing your findings.\n",
        "     - Were there variations that didn't work well? i.e., where GPT either hallucinated or wrong\n",
        " - What did you learn?"
      ]
    }
  ],
  "metadata": {
    "colab": {
      "provenance": []
    },
    "kernelspec": {
      "display_name": "Python 3",
      "language": "python",
      "name": "python3"
    },
    "language_info": {
      "codemirror_mode": {
        "name": "ipython",
        "version": 3
      },
      "file_extension": ".py",
      "mimetype": "text/x-python",
      "name": "python",
      "nbconvert_exporter": "python",
      "pygments_lexer": "ipython3",
      "version": "3.9.0"
    }
  },
  "nbformat": 4,
  "nbformat_minor": 5
}
